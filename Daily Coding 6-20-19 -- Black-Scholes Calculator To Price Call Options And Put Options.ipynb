{
 "cells": [
  {
   "cell_type": "code",
   "execution_count": 1,
   "metadata": {},
   "outputs": [
    {
     "name": "stdout",
     "output_type": "stream",
     "text": [
      "Call Price: 6.040088129724239\n",
      "Put Price: 10.675324824802793\n"
     ]
    }
   ],
   "source": [
    "import math\n",
    "import scipy.stats as stats\n",
    "def Black_Scholes(t,r,vol,S,K):\n",
    "    d1_part_A = 1 / vol*math.sqrt(t)\n",
    "    d1_part_B = math.log(S/K)\n",
    "    d1_part_C = (r+((vol**2)/2))*t\n",
    "    d1 = d1_part_A * (d1_part_B + d1_part_C)\n",
    "    d2 = d1 - vol*math.sqrt(t)\n",
    "    N_d1 = stats.norm.cdf(d1)\n",
    "    N_d2 = stats.norm.cdf(d2)\n",
    "    PV_K = K * math.exp(-r*t)\n",
    "    Call_Price = (N_d1 * S) - (N_d2 * PV_K)\n",
    "    N_neg_d1 = stats.norm.cdf(-d1)\n",
    "    N_neg_d2 = stats.norm.cdf(-d2)\n",
    "    Put_Price = (N_neg_d2)*(K*math.exp(-r*t)) - (N_neg_d1)*S\n",
    "    print(\"Call Price: \" + str(Call_Price))\n",
    "    print(\"Put Price: \" + str(Put_Price))\n",
    "    \n",
    "Black_Scholes(1,.05,.20,100,110)"
   ]
  },
  {
   "cell_type": "code",
   "execution_count": null,
   "metadata": {},
   "outputs": [],
   "source": []
  },
  {
   "cell_type": "code",
   "execution_count": null,
   "metadata": {},
   "outputs": [],
   "source": []
  },
  {
   "cell_type": "code",
   "execution_count": null,
   "metadata": {},
   "outputs": [],
   "source": []
  }
 ],
 "metadata": {
  "kernelspec": {
   "display_name": "Python 3",
   "language": "python",
   "name": "python3"
  },
  "language_info": {
   "codemirror_mode": {
    "name": "ipython",
    "version": 3
   },
   "file_extension": ".py",
   "mimetype": "text/x-python",
   "name": "python",
   "nbconvert_exporter": "python",
   "pygments_lexer": "ipython3",
   "version": "3.7.3"
  }
 },
 "nbformat": 4,
 "nbformat_minor": 2
}
